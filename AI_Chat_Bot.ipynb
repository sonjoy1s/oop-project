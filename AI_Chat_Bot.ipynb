{
  "nbformat": 4,
  "nbformat_minor": 0,
  "metadata": {
    "colab": {
      "provenance": [],
      "authorship_tag": "ABX9TyPKt9E+zRcPKCBsnhoCaLzd",
      "include_colab_link": true
    },
    "kernelspec": {
      "name": "python3",
      "display_name": "Python 3"
    },
    "language_info": {
      "name": "python"
    }
  },
  "cells": [
    {
      "cell_type": "markdown",
      "metadata": {
        "id": "view-in-github",
        "colab_type": "text"
      },
      "source": [
        "<a href=\"https://colab.research.google.com/github/sonjoy1s/oop-project/blob/main/AI_Chat_Bot.ipynb\" target=\"_parent\"><img src=\"https://colab.research.google.com/assets/colab-badge.svg\" alt=\"Open In Colab\"/></a>"
      ]
    },
    {
      "cell_type": "code",
      "execution_count": 7,
      "metadata": {
        "colab": {
          "base_uri": "https://localhost:8080/"
        },
        "id": "6ckzy4V5BDx9",
        "outputId": "d559d456-57aa-486f-9cdf-e155a513d5c7"
      },
      "outputs": [
        {
          "output_type": "stream",
          "name": "stdout",
          "text": [
            "Welcome to Smart ChatBot Simulation!\n",
            "Choose your bot type: 1) FriendlyBot  2) TechBot  3) SarcasticBot\n",
            "Enter choice (1/2/3): 1\n",
            "FriendlyBot: i am FriendlyBot, your help hand\n",
            "\n",
            "You: how are you\n",
            "\n",
            "Sanjoy: how are you\n",
            "FriendlyBot : I’m doing great! How about you? \n",
            "\n",
            "You: nice\n",
            "\n",
            "Sanjoy: nice\n",
            "FriendlyBot: Sorry sir, i don't understand\n",
            "\n",
            "You: bye\n",
            "FriendlyBot: Goodbye, Sanjoy! Have a nice day sir!\n"
          ]
        }
      ],
      "source": [
        "class ChatBot():\n",
        "  def __init__(self, name):\n",
        "    self.__name = name #private\n",
        "  def greet(self):\n",
        "    print(f\"{self.__name}: i am {self.__name}, your help hand\")\n",
        "\n",
        "  def respond(self):\n",
        "    print(f\"{self.__name}: I can’t understand that yet, but I’m learning\")\n",
        "\n",
        "class FriendlyBot(ChatBot):\n",
        "  def respond(self,user_input):\n",
        "    if \"how are you\" in user_input.lower():\n",
        "      print(f\"{self._ChatBot__name} : I’m doing great! How about you? \")\n",
        "    else :\n",
        "      print(f\"{self._ChatBot__name}: Sorry sir, i don't understand\")\n",
        "\n",
        "\n",
        "class TeachBot(ChatBot):\n",
        "  def respond(self,user_input):\n",
        "      if \"python\" in user_input.lower():\n",
        "        print(f\"{self._ChatBot__name}:Python is powerful pg language\")\n",
        "      elif \"ai\" in user_input.lower():\n",
        "        print(f\"{self._ChatBot__name}:Artificial Intelligence is the future\")\n",
        "      else :\n",
        "        print(f\"{self._ChatBot__name}: I specialize in tech talk. Ask me about AI or Python!\")\n",
        "\n",
        "\n",
        "class SarcasticBot(ChatBot):\n",
        "  def respond(self, user_input):\n",
        "    print(f\"{self._ChatBot__name}: Oh really? You think I care? Just kidding...\")\n",
        "\n",
        "\n",
        "class User:\n",
        "    def __init__(self, username):\n",
        "        self.username = username\n",
        "\n",
        "    def send_message(self, bot, message):\n",
        "        print(f\"\\n{self.username}: {message}\")\n",
        "        bot.respond(message)\n",
        "\n",
        "\n",
        "\n",
        "if __name__ == \"__main__\":\n",
        "    print(\"Welcome to Smart ChatBot Simulation!\")\n",
        "    print(\"Choose your bot type: 1) FriendlyBot  2) TechBot  3) SarcasticBot\")\n",
        "\n",
        "    choice = input(\"Enter choice (1/2/3): \")\n",
        "\n",
        "    if choice == \"1\":\n",
        "        bot = FriendlyBot(\"FriendlyBot\")\n",
        "    elif choice == \"2\":\n",
        "        bot = TeachBot(\"TeachBot\")\n",
        "    elif choice == \"3\":\n",
        "        bot = SarcasticBot(\"SarcasticBot\")\n",
        "    else:\n",
        "        print(\"Invalid choice, defaulting to SarcasticBot\")\n",
        "        bot = SarcasticBot(\"SarcasticBot\")\n",
        "\n",
        "\n",
        "    bot.greet()\n",
        "\n",
        "    user = User(\"Sanjoy\")\n",
        "\n",
        "    while True:\n",
        "        msg = input(\"\\nYou: \")\n",
        "        if msg.lower() in [\"exit\", \"bye\", \"quit\"]:\n",
        "            print(f\"{bot._ChatBot__name}: Goodbye, {user.username}! Have a nice day sir!\")\n",
        "            break\n",
        "        user.send_message(bot, msg)"
      ]
    }
  ]
}