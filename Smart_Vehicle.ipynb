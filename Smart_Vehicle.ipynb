{
  "nbformat": 4,
  "nbformat_minor": 0,
  "metadata": {
    "colab": {
      "provenance": [],
      "authorship_tag": "ABX9TyMHWQCPprhzaEvyzicqUS+S",
      "include_colab_link": true
    },
    "kernelspec": {
      "name": "python3",
      "display_name": "Python 3"
    },
    "language_info": {
      "name": "python"
    }
  },
  "cells": [
    {
      "cell_type": "markdown",
      "metadata": {
        "id": "view-in-github",
        "colab_type": "text"
      },
      "source": [
        "<a href=\"https://colab.research.google.com/github/sonjoy1s/oop-project/blob/main/Smart_Vehicle.ipynb\" target=\"_parent\"><img src=\"https://colab.research.google.com/assets/colab-badge.svg\" alt=\"Open In Colab\"/></a>"
      ]
    },
    {
      "cell_type": "code",
      "execution_count": null,
      "metadata": {
        "id": "FGzzXVbChb-l"
      },
      "outputs": [],
      "source": []
    },
    {
      "cell_type": "markdown",
      "source": [
        "### Smart Vehicle Classifier"
      ],
      "metadata": {
        "id": "yg7Kt8ciiSpz"
      }
    },
    {
      "cell_type": "code",
      "source": [
        "# Smart Vehicle Classifier\n",
        "# Only 'speed' is private to demonstrate encapsulation\n",
        "\n",
        "#Create a base class Vehicle that stores vehicle type, name, and speed.\n",
        "\n",
        "class Vehicle:\n",
        "    def __init__(self, vehicle_type, name, speed):\n",
        "        self._vehicle_type = vehicle_type   # Protected attribute\n",
        "        self.name = name                    # Public attribute\n",
        "        self.__speed = speed                # Private attribute\n",
        "\n",
        "    # Getter method for private speed\n",
        "    #Use protected and private attributes in the base class to demonstrate encapsulation\n",
        "    def get_speed(self):\n",
        "        return self.__speed\n",
        "\n",
        "    # Classify vehicle based on speed\n",
        "    #Implement a method classify() that categorizes vehicles as High-speed Vehicle if the speed is greater than 100, otherwise Normal Vehicle\n",
        "    def classify(self):\n",
        "        if self.__speed > 100:\n",
        "            return \"High-speed Vehicle\"\n",
        "        else:\n",
        "            return \"Normal Vehicle\"\n",
        "\n",
        "    def show_info(self):\n",
        "        print(f\"Type: {self._vehicle_type}, Name: {self.name}, Speed: {self.__speed} km/h\")\n",
        "\n",
        "\n",
        "# Derived subclass: Car inharicted korche vehicle\n",
        "class Car(Vehicle):\n",
        "    def __init__(self, name, speed):\n",
        "        super().__init__(\"Car\", name, speed)\n",
        "        print(f\"Car Added: {name}\")\n",
        "\n",
        "    def show_info(self):\n",
        "        classification = self.classify()\n",
        "        print(f\"Type: Car, Name: {self.name}, Speed: {self.get_speed()} km/h, Predicted: {classification}\")\n",
        "\n",
        "\n",
        "# Derived subclass: Bike inharicted korche Vehicle ke\n",
        "class Bike(Vehicle):\n",
        "    def __init__(self, name, speed):\n",
        "        super().__init__(\"Bike\", name, speed)\n",
        "        print(f\"Bike Added: {name}\")\n",
        "\n",
        "    def show_info(self):\n",
        "        classification = self.classify()\n",
        "        print(f\"Type: Bike, Name: {self.name}, Speed: {self.get_speed()} km/h, Predicted: {classification}\")\n",
        "\n",
        "\n",
        "# ---------- Main Program ----------\n",
        "if __name__ == \"__main__\":\n",
        "    n = int(input())\n",
        "    vehicles = []\n",
        "\n",
        "    for _ in range(n):\n",
        "        data = input().split()\n",
        "        v_type, name, speed = data[0], data[1], int(data[2])\n",
        "\n",
        "        if v_type.lower() == \"car\":\n",
        "            vehicles.append(Car(name, speed))\n",
        "        elif v_type.lower() == \"bike\":\n",
        "            vehicles.append(Bike(name, speed))\n",
        "\n",
        "    print(\"\\n--- Vehicle Details ---\")\n",
        "    for v in vehicles:\n",
        "        v.show_info()\n"
      ],
      "metadata": {
        "colab": {
          "base_uri": "https://localhost:8080/"
        },
        "id": "RswKQCvAidzR",
        "outputId": "6260ec9a-ebde-4981-db4d-187042f1f8f4"
      },
      "execution_count": 6,
      "outputs": [
        {
          "output_type": "stream",
          "name": "stdout",
          "text": [
            "3\n",
            "Car Toyota 150 Bike Yamaha 90 Car Honda 120\n",
            "Car Added: Toyota\n",
            " Bike Yamaha 90 \n",
            "Bike Added: Yamaha\n",
            " Car Honda 120\n",
            "Car Added: Honda\n",
            "\n",
            "--- Vehicle Details ---\n",
            "Type: Car, Name: Toyota, Speed: 150 km/h, Predicted: High-speed Vehicle\n",
            "Type: Bike, Name: Yamaha, Speed: 90 km/h, Predicted: Normal Vehicle\n",
            "Type: Car, Name: Honda, Speed: 120 km/h, Predicted: High-speed Vehicle\n"
          ]
        }
      ]
    }
  ]
}