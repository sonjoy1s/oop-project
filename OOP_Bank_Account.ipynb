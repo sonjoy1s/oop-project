{
  "nbformat": 4,
  "nbformat_minor": 0,
  "metadata": {
    "colab": {
      "provenance": [],
      "authorship_tag": "ABX9TyPrU/mh8EWfyK+JSnGalzlg",
      "include_colab_link": true
    },
    "kernelspec": {
      "name": "python3",
      "display_name": "Python 3"
    },
    "language_info": {
      "name": "python"
    }
  },
  "cells": [
    {
      "cell_type": "markdown",
      "metadata": {
        "id": "view-in-github",
        "colab_type": "text"
      },
      "source": [
        "<a href=\"https://colab.research.google.com/github/sonjoy1s/oop-project/blob/main/OOP_Bank_Account.ipynb\" target=\"_parent\"><img src=\"https://colab.research.google.com/assets/colab-badge.svg\" alt=\"Open In Colab\"/></a>"
      ]
    },
    {
      "cell_type": "code",
      "execution_count": null,
      "metadata": {
        "id": "tS6dT7z6IxDx"
      },
      "outputs": [],
      "source": []
    },
    {
      "cell_type": "markdown",
      "source": [
        "### Bank Account Project"
      ],
      "metadata": {
        "id": "IgOfc1FgIzLl"
      }
    },
    {
      "cell_type": "code",
      "source": [
        "from abc import ABC, abstractmethod\n",
        "\n",
        "# Abstraction\n",
        "class BankService(ABC):\n",
        "    @abstractmethod\n",
        "    def transaction(self):\n",
        "        pass\n",
        "\n",
        "\n",
        "class Account:\n",
        "    bank_name =\"My_Bank\"\n",
        "\n",
        "    def __init__(self, name, account_no, balance):\n",
        "        self.name = name\n",
        "        self.account_no = account_no\n",
        "        self.__balance = balance # Private Attribute\n",
        "\n",
        "    def get_balance(self):\n",
        "        return self.__balance\n",
        "\n",
        "\n",
        "    def deposite(self, money):\n",
        "        self.__balance += money\n",
        "        return f\"{money} is added, New Balance is: {self.__balance}\"\n",
        "\n",
        "    def withdraw(self, withdrawMoney):\n",
        "\n",
        "        if withdrawMoney > self.__balance:\n",
        "            return f\"Insufficient Balance\"\n",
        "        self.__balance -= withdrawMoney\n",
        "\n",
        "        return f\"{withdrawMoney} is Withdrawed, New Balance is: {self.__balance}\"\n",
        "\n",
        "\n",
        "class SavingAccount(Account):\n",
        "    def __init__(self, name, account_no, balance, interest_rate):\n",
        "        super().__init__(name, account_no, balance)\n",
        "        self.interest_rate = interest_rate\n",
        "\n",
        "    def calculate_interest_rate(self):\n",
        "        interest = self.get_balance() * self.interest_rate / 100\n",
        "        return f\"Interest rate is : {interest}\"\n",
        "\n",
        "class CurrentAccount(Account):\n",
        "    def __init__(self, name, account_no, balance, overlimit):\n",
        "        super().__init__(name, account_no, balance)\n",
        "        self.overlimit = overlimit\n",
        "\n",
        "    def withdraw(self, withdrawMoney):\n",
        "        if withdrawMoney > self.get_balance() + self.overlimit :\n",
        "            return f\"Insufficient Balance\"\n",
        "\n",
        "        balance = self.get_balance() - withdrawMoney\n",
        "\n",
        "        return f\"{withdrawMoney} is withdrawed , new balance is {balance}\"\n",
        "\n",
        "\n",
        "class ATM(BankService):\n",
        "    def transaction(self):\n",
        "        print(\"ATM Transaction: Cash Withdraw or Balance Check\")\n",
        "\n",
        "\n",
        "\n",
        "currentUser = CurrentAccount(\"Rakib\", 123, 1000,5000)\n",
        "# print(currentUser.get_balance())\n",
        "# print(currentUser.withdraw(3000))\n",
        "\n",
        "savingUSer = SavingAccount(\"Takib\", 133, 100,2)\n",
        "print(savingUSer.get_balance())\n",
        "print(savingUSer.calculate_interest_rate())\n",
        "\n",
        "atm = ATM()\n",
        "atm.transaction();"
      ],
      "metadata": {
        "colab": {
          "base_uri": "https://localhost:8080/"
        },
        "id": "N71qaIATI-GL",
        "outputId": "cb1e7887-dc72-44f9-ba3c-3a8cea59f104"
      },
      "execution_count": 1,
      "outputs": [
        {
          "output_type": "stream",
          "name": "stdout",
          "text": [
            "100\n",
            "Interest rate is : 2.0\n",
            "ATM Transaction: Cash Withdraw or Balance Check\n"
          ]
        }
      ]
    }
  ]
}